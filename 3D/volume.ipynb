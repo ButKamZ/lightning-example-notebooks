{
 "metadata": {
  "name": "",
  "signature": "sha256:afdafa3fc1d5b0fb45cb7cec83113fab89ec17788274724b2d24c515a136d2ad"
 },
 "nbformat": 3,
 "nbformat_minor": 0,
 "worksheets": [
  {
   "cells": [
    {
     "cell_type": "heading",
     "level": 1,
     "metadata": {},
     "source": [
      "<img style='float: left' src=\"http://lightning-viz.github.io/images/logo.png\">\n",
      "<br>\n",
      "<br>\n",
      "&nbsp;&nbsp;&nbsp;&nbsp;&nbsp;Volume renderings in <a href='http://lightning-viz.github.io/'><font color='#9175f0'>Lightning</font></a>"
     ]
    },
    {
     "cell_type": "heading",
     "level": 2,
     "metadata": {},
     "source": [
      "<hr>\n",
      "Setup"
     ]
    },
    {
     "cell_type": "code",
     "collapsed": false,
     "input": [
      "import os\n",
      "from lightning import Lightning\n",
      "\n",
      "from colorsys import hsv_to_rgb\n",
      "from numpy import random, asarray, amin, amax, clip, mean, ndarray, linspace\n",
      "from scipy.ndimage.filters import gaussian_filter\n",
      "import seaborn as sns\n",
      "from matplotlib.colors import LinearSegmentedColormap "
     ],
     "language": "python",
     "metadata": {},
     "outputs": [],
     "prompt_number": 1
    },
    {
     "cell_type": "code",
     "collapsed": false,
     "input": [
      "# replace with your own host and credentials, e.g. http://localhost:3000 or http://my-lightning-server.herokuapp.com\n",
      "host = 'http://lightning-docs.herokuapp.com'\n",
      "auth = (os.getenv('LIGHTNING_USERNAME'), os.getenv('LIGHTNING_PASSWORD'))"
     ],
     "language": "python",
     "metadata": {},
     "outputs": [],
     "prompt_number": 2
    },
    {
     "cell_type": "code",
     "collapsed": false,
     "input": [
      "lgn = Lightning(ipython=True, host=host, auth=auth)\n",
      "lgn.create_session('volume-ipython');"
     ],
     "language": "python",
     "metadata": {},
     "outputs": [],
     "prompt_number": 3
    },
    {
     "cell_type": "heading",
     "level": 2,
     "metadata": {},
     "source": [
      "<hr>\n",
      "Clouds"
     ]
    },
    {
     "cell_type": "markdown",
     "metadata": {},
     "source": [
      "Volume rendering lets you render a sequence of images as a 3D volume.\n",
      "<br>\n",
      "Lightining currently assumes isotropic images, so the sampling in x,y, and z should be comparable.\n",
      "<br>\n",
      "To render a volume that looks like sky, first we generate some smooth gaussian noise, and scale and clip it to increase the contrast."
     ]
    },
    {
     "cell_type": "code",
     "collapsed": false,
     "input": [
      "mat = gaussian_filter(random.rand(25,25,50),3)\n",
      "mat = (mat - amin(mat)) / (amax(mat) - amin(mat))\n",
      "mat = clip(((mat - 0.5)*10 + 0.25), 0, 1)\n",
      "cm = LinearSegmentedColormap.from_list('sky', ['#7AB2EA',  'white'])"
     ],
     "language": "python",
     "metadata": {},
     "outputs": [],
     "prompt_number": 4
    },
    {
     "cell_type": "markdown",
     "metadata": {},
     "source": [
      "Now render as a volume"
     ]
    },
    {
     "cell_type": "code",
     "collapsed": false,
     "input": [
      "slices = [cm(im) for im in mat]\n",
      "lgn.volume(slices)"
     ],
     "language": "python",
     "metadata": {},
     "outputs": [
      {
       "html": [
        "<meta name=\"viewport\" content=\"width=device-width, initial-scale=1, maximum-scale=1\"/><meta http-equiv=\"X-UA-Compatible\" content=\"IE=10; IE=9; IE=8; IE=7; IE=EDGE\"/><meta charset=\"UTF-8\"/><link href=\"//fonts.googleapis.com/css?family=Open+Sans:400,700\" rel=\"stylesheet\" type=\"text/css\"/><link rel=\"stylesheet\" href=\"http://lightning-docs.herokuapp.com/css/app.css\"/><link rel=\"stylesheet\" href=\"http://lightning-docs.herokuapp.com/css/dynamic/viz/?visualizations[]=volume\"/><div id=\"lightning-body\" class=\"container content wrap push\"><div class=\"feed-container\"><div data-model=\"visualization\" data-model-id=\"153\" class=\"feed-item-container\"><div data-type=\"volume\" data-data=\"null\" data-images=\"[&quot;https://s3.amazonaws.com/i.gif.fm/sessions/46/GK9guns5s8t4KtTcPzeNKinc8qpCBVhb&quot;,&quot;https://s3.amazonaws.com/i.gif.fm/sessions/46/2RE3WGzCBA0pF1QPFatM67seCgwd0uC8&quot;,&quot;https://s3.amazonaws.com/i.gif.fm/sessions/46/4hcTIOugIaSvY1cqrY11z77h94q3R7r5&quot;,&quot;https://s3.amazonaws.com/i.gif.fm/sessions/46/3ozVDQqGr33OYJ90bSTxdAIZZyS6gRok&quot;,&quot;https://s3.amazonaws.com/i.gif.fm/sessions/46/nGGbgyCM4vT3yzFZMX2PMyUswlyV8w2T&quot;,&quot;https://s3.amazonaws.com/i.gif.fm/sessions/46/bFnUqTGzzaQ2GnpG1t40dcfA93UdKTaS&quot;,&quot;https://s3.amazonaws.com/i.gif.fm/sessions/46/6wKKdPVqD9CZ5c7D7Q1wHNa74tA7IfBI&quot;,&quot;https://s3.amazonaws.com/i.gif.fm/sessions/46/kpEk80zPRrxEbapqPUKokkzK9XImlAnw&quot;,&quot;https://s3.amazonaws.com/i.gif.fm/sessions/46/iR2yL41FtOJlSvEYS4n7sXzfDonftcQE&quot;,&quot;https://s3.amazonaws.com/i.gif.fm/sessions/46/u5GHOxPBBqBALN3ZvrhLu9xifIw1GVT5&quot;,&quot;https://s3.amazonaws.com/i.gif.fm/sessions/46/O3tRKPSMHhYfSteVvW3hAya0f8q12sWr&quot;,&quot;https://s3.amazonaws.com/i.gif.fm/sessions/46/esdL1CY1T6PKsiLuSwxktlZT3sJ9OLv2&quot;,&quot;https://s3.amazonaws.com/i.gif.fm/sessions/46/JUqPMBPtIRAZd2AMXR394xm65NULg9nX&quot;,&quot;https://s3.amazonaws.com/i.gif.fm/sessions/46/EEisEneMWHnMCdyNco29A3idtHPH6VfR&quot;,&quot;https://s3.amazonaws.com/i.gif.fm/sessions/46/emN99MOJUexh4tWWgweL3FKVhPnPxyr4&quot;,&quot;https://s3.amazonaws.com/i.gif.fm/sessions/46/AGCaeAfNQ6LL2QXfaJIg4kRgCMhaue4D&quot;,&quot;https://s3.amazonaws.com/i.gif.fm/sessions/46/iFoxfWqIsImxZQAZsPzX5ci76drngn64&quot;,&quot;https://s3.amazonaws.com/i.gif.fm/sessions/46/BAhJGvuH94E2fUtJaQsFM8IGMZL21C4y&quot;,&quot;https://s3.amazonaws.com/i.gif.fm/sessions/46/AiOcfbF9f5yi9e3nKOw27UE89EexfOob&quot;,&quot;https://s3.amazonaws.com/i.gif.fm/sessions/46/Ugp8uZo0IbNrVhB47bp4N6GEdwkTJvk0&quot;,&quot;https://s3.amazonaws.com/i.gif.fm/sessions/46/MtSy65tTJV9kdYLz0UNnbc7DYrvR7o4J&quot;,&quot;https://s3.amazonaws.com/i.gif.fm/sessions/46/E2hbsxgskwY0JxmXWy47oVwhRuNftAIJ&quot;,&quot;https://s3.amazonaws.com/i.gif.fm/sessions/46/HO55d3mm0nzwyZrMksV6mBVsPcTcoVM9&quot;,&quot;https://s3.amazonaws.com/i.gif.fm/sessions/46/ePop3YiWzZUSacxylAsFH6iN54OOMnLq&quot;,&quot;https://s3.amazonaws.com/i.gif.fm/sessions/46/oPOPXwSVJGK2UZa7Kx4thudJYJkN06yE&quot;]\" data-options=\"null\" id=\"viz-153\" data-initialized=\"false\" class=\"feed-item\"></div></div></div></div><script>window.lightning = window.lightning || {};\n",
        "window.lightning.host = \"http://lightning-docs.herokuapp.com/\" || 'http://127.0.0.1:3000/';\n",
        "window.lightning.vizCount = (window.lightning.vizCount + 1) || 1;\n",
        "window.lightning.requiredVizTypes = window.lightning.requiredVizTypes || [];\n",
        "if(window.lightning.requiredVizTypes.indexOf(\"volume\") === -1) {\n",
        "    window.lightning.requiredVizTypes.push(\"volume\");\n",
        "}\n",
        "window._require = window.require;\n",
        "window.require = undefined;\n",
        "window._define = window.define;\n",
        "window.define = undefined;</script><script src=\"http://lightning-docs.herokuapp.com/js/embed.js\"></script>"
       ],
       "metadata": {},
       "output_type": "pyout",
       "prompt_number": 6,
       "text": [
        "<lightning.types.three.Volume at 0x109aeaa90>"
       ]
      }
     ],
     "prompt_number": 6
    },
    {
     "cell_type": "heading",
     "level": 2,
     "metadata": {},
     "source": [
      "<hr>\n",
      "Color cubes"
     ]
    },
    {
     "cell_type": "markdown",
     "metadata": {},
     "source": [
      "Volumes are a useful way to visualize color spaces. First we'll generate RGB and HSV cubes."
     ]
    },
    {
     "cell_type": "code",
     "collapsed": false,
     "input": [
      "nx, ny, nz = (50, 50, 50)\n",
      "rgb = ndarray((nx,ny,nz,3))\n",
      "hsv = ndarray((nx,ny,nz,3))\n",
      "for i, ii in enumerate(linspace(0,1,nx)):\n",
      "    for j, jj in enumerate(linspace(0,1,ny)):\n",
      "        for k, kk in enumerate(linspace(0,1,nz)):\n",
      "            position = (i, j, k)\n",
      "            rgb[position] = (kk, jj, ii)\n",
      "            hsv[position] = hsv_to_rgb(jj, ii, kk)"
     ],
     "language": "python",
     "metadata": {},
     "outputs": [],
     "prompt_number": 7
    },
    {
     "cell_type": "markdown",
     "metadata": {},
     "source": [
      "Render RGB cube"
     ]
    },
    {
     "cell_type": "code",
     "collapsed": false,
     "input": [
      "lgn.volume([x for x in rgb])"
     ],
     "language": "python",
     "metadata": {},
     "outputs": [
      {
       "html": [
        "<meta name=\"viewport\" content=\"width=device-width, initial-scale=1, maximum-scale=1\"/><meta http-equiv=\"X-UA-Compatible\" content=\"IE=10; IE=9; IE=8; IE=7; IE=EDGE\"/><meta charset=\"UTF-8\"/><link href=\"//fonts.googleapis.com/css?family=Open+Sans:400,700\" rel=\"stylesheet\" type=\"text/css\"/><link rel=\"stylesheet\" href=\"http://lightning-docs.herokuapp.com/css/app.css\"/><link rel=\"stylesheet\" href=\"http://lightning-docs.herokuapp.com/css/dynamic/viz/?visualizations[]=volume\"/><div id=\"lightning-body\" class=\"container content wrap push\"><div class=\"feed-container\"><div data-model=\"visualization\" data-model-id=\"154\" class=\"feed-item-container\"><div data-type=\"volume\" data-data=\"null\" data-images=\"[&quot;https://s3.amazonaws.com/i.gif.fm/sessions/46/IuxACrBrTJMYJz2Ey5X9Xuv6udNKqWv1&quot;,&quot;https://s3.amazonaws.com/i.gif.fm/sessions/46/AdaTBIen7tHGOgCWc6el2RLtW8vgOn7a&quot;,&quot;https://s3.amazonaws.com/i.gif.fm/sessions/46/AFqmFd4QhmxzmOHxHsSqFPpFEFCPzS3S&quot;,&quot;https://s3.amazonaws.com/i.gif.fm/sessions/46/THJQV0FtNV7qlIw9e5HcnV5RYQ0pLF6o&quot;,&quot;https://s3.amazonaws.com/i.gif.fm/sessions/46/sfLJmJQfgXxZE0dQURrQu2CqWQBT3zPi&quot;,&quot;https://s3.amazonaws.com/i.gif.fm/sessions/46/ZJgD9YxII7AGc3IQ539iMpzx0a02mF9X&quot;,&quot;https://s3.amazonaws.com/i.gif.fm/sessions/46/Zs6MPBQ8n3UX6JE6J0x0IKdcmpJvCqz3&quot;,&quot;https://s3.amazonaws.com/i.gif.fm/sessions/46/oHzhnsoucJSbwO9fsFKeydAs1KfRHChL&quot;,&quot;https://s3.amazonaws.com/i.gif.fm/sessions/46/CfnpGvouZwFJOXOd8RuidgiJ7qAEsF7Q&quot;,&quot;https://s3.amazonaws.com/i.gif.fm/sessions/46/82dC3v4s1UtzefZJgiWNB3ADtDr0UFcT&quot;,&quot;https://s3.amazonaws.com/i.gif.fm/sessions/46/46VTqQr7e8HdBYe3qhA2qnzONJt6kZSP&quot;,&quot;https://s3.amazonaws.com/i.gif.fm/sessions/46/nHBPD23wnQ9PESEikPgBFNUd7yPzJ9gP&quot;,&quot;https://s3.amazonaws.com/i.gif.fm/sessions/46/7OsrixpeWNqJYJE6sq2Omu83palJ7266&quot;,&quot;https://s3.amazonaws.com/i.gif.fm/sessions/46/yLGtWDMSHh60PitgiUG1oiFulVNQm8fA&quot;,&quot;https://s3.amazonaws.com/i.gif.fm/sessions/46/MVHNxY48YXOFaXu2TGeNrkLUHY0vcaSB&quot;,&quot;https://s3.amazonaws.com/i.gif.fm/sessions/46/8e44PFAL0VJ2VtWA9r7EHg5EfIlgv7H8&quot;,&quot;https://s3.amazonaws.com/i.gif.fm/sessions/46/u8OHValKKg3klq3QxBAyHFzDVQTJwZJX&quot;,&quot;https://s3.amazonaws.com/i.gif.fm/sessions/46/qUf2BD9D57NrhmrwA7XvTOdLJTrJbvhK&quot;,&quot;https://s3.amazonaws.com/i.gif.fm/sessions/46/E9dMlsOLv2U5B1nPiSR5cZ4xH71uIqyn&quot;,&quot;https://s3.amazonaws.com/i.gif.fm/sessions/46/qzVfWlxD2ikiOfNATTmHowa7kXJpJJUc&quot;,&quot;https://s3.amazonaws.com/i.gif.fm/sessions/46/cCY6X8Q8A0gN7RTMg0WdMRc4WBMPyARy&quot;,&quot;https://s3.amazonaws.com/i.gif.fm/sessions/46/4GScuFZcGhuA52QVPZHYhen6BNOH3uaO&quot;,&quot;https://s3.amazonaws.com/i.gif.fm/sessions/46/ulcxGJ18ldG01y7TU4PDFSbSkwiPziYn&quot;,&quot;https://s3.amazonaws.com/i.gif.fm/sessions/46/7J2RiUOz0XRAL7FGq5O60usQciBDzOmW&quot;,&quot;https://s3.amazonaws.com/i.gif.fm/sessions/46/UGTmUpQvIUNh8RVpwQgvacv0WcZBXU1d&quot;,&quot;https://s3.amazonaws.com/i.gif.fm/sessions/46/W1SmBgmJF1Fs6o5vrUIWDwtJ2vyrNg6y&quot;,&quot;https://s3.amazonaws.com/i.gif.fm/sessions/46/xyXRmsfuWVtzdGRvb0RO225HWt9dWlRL&quot;,&quot;https://s3.amazonaws.com/i.gif.fm/sessions/46/afbG90UbBzcxMc3LVbTJqMQQ6i4o2NdJ&quot;,&quot;https://s3.amazonaws.com/i.gif.fm/sessions/46/E5WtI64neJWZ9LYMqrM4Qa5TUo8vDM8W&quot;,&quot;https://s3.amazonaws.com/i.gif.fm/sessions/46/XAEuxaFmAbo9JDvQSyq1wLvpQw2FKzUa&quot;,&quot;https://s3.amazonaws.com/i.gif.fm/sessions/46/dRTQI5OUBEfyIHxPtz57YGn8MWisWzIu&quot;,&quot;https://s3.amazonaws.com/i.gif.fm/sessions/46/pt0buiqZtHC5wh9E7nifLWmFh3gEILeB&quot;,&quot;https://s3.amazonaws.com/i.gif.fm/sessions/46/vbfC7BKhaxC9LoxhxalpppWmSg6dg6eQ&quot;,&quot;https://s3.amazonaws.com/i.gif.fm/sessions/46/mWhbtSDV86Qz8VTRPXoV23ceZh5lHqsa&quot;,&quot;https://s3.amazonaws.com/i.gif.fm/sessions/46/bqFPCm4i18Xoxo11kk6mGQHw3W2gu5S4&quot;,&quot;https://s3.amazonaws.com/i.gif.fm/sessions/46/5ai5v6ACcmDW82FrGWc9wzTYHd2BnhWe&quot;,&quot;https://s3.amazonaws.com/i.gif.fm/sessions/46/LIrhn7z4YlvP1HXsJg1eEBO2f0e5wQ6S&quot;,&quot;https://s3.amazonaws.com/i.gif.fm/sessions/46/vGWlSB7nBgCYyL1ayoGe7QolBIi8hpB5&quot;,&quot;https://s3.amazonaws.com/i.gif.fm/sessions/46/MeCx8FzVR813VrPUBYoptvqJGFAHwFzu&quot;,&quot;https://s3.amazonaws.com/i.gif.fm/sessions/46/QFlNLoG0JrpQok3EUZgJbXDRaPU6W4GZ&quot;,&quot;https://s3.amazonaws.com/i.gif.fm/sessions/46/FpbpX1b0PENQKU4nXFnNg57PmtpXFkyw&quot;,&quot;https://s3.amazonaws.com/i.gif.fm/sessions/46/CUpsrynqkIDXyQgdhfSsteCE1k4uOLwI&quot;,&quot;https://s3.amazonaws.com/i.gif.fm/sessions/46/ZUUTlccPqRH3S49UwXTJsPh03lBFuere&quot;,&quot;https://s3.amazonaws.com/i.gif.fm/sessions/46/N9MbcfzrlDazQPmv2zu47vx9WZxgh6BA&quot;,&quot;https://s3.amazonaws.com/i.gif.fm/sessions/46/UNsn54srY5TaPMUTg00lAeiliGRDK17t&quot;,&quot;https://s3.amazonaws.com/i.gif.fm/sessions/46/m64HMWS112fK0ZZEcrXUo5cZeJSQmsOm&quot;,&quot;https://s3.amazonaws.com/i.gif.fm/sessions/46/rMyNfuVBhCDCIGu07TLgchBwYlgJxs0F&quot;,&quot;https://s3.amazonaws.com/i.gif.fm/sessions/46/8h3pGbCJHH7K2sB6GGl0vKaiEZvNoxxY&quot;,&quot;https://s3.amazonaws.com/i.gif.fm/sessions/46/VUtLcYYIRMS3fIBH38g4JJMSZMPo5Bkg&quot;,&quot;https://s3.amazonaws.com/i.gif.fm/sessions/46/cyeXMd1tMK8zO08LptRHDZgkJvJTg3nT&quot;]\" data-options=\"null\" id=\"viz-154\" data-initialized=\"false\" class=\"feed-item\"></div></div></div></div><script>window.lightning = window.lightning || {};\n",
        "window.lightning.host = \"http://lightning-docs.herokuapp.com/\" || 'http://127.0.0.1:3000/';\n",
        "window.lightning.vizCount = (window.lightning.vizCount + 1) || 1;\n",
        "window.lightning.requiredVizTypes = window.lightning.requiredVizTypes || [];\n",
        "if(window.lightning.requiredVizTypes.indexOf(\"volume\") === -1) {\n",
        "    window.lightning.requiredVizTypes.push(\"volume\");\n",
        "}\n",
        "window._require = window.require;\n",
        "window.require = undefined;\n",
        "window._define = window.define;\n",
        "window.define = undefined;</script><script src=\"http://lightning-docs.herokuapp.com/js/embed.js\"></script>"
       ],
       "metadata": {},
       "output_type": "pyout",
       "prompt_number": 8,
       "text": [
        "<lightning.types.three.Volume at 0x109b3b610>"
       ]
      }
     ],
     "prompt_number": 8
    },
    {
     "cell_type": "markdown",
     "metadata": {},
     "source": [
      "Render HSV cube"
     ]
    },
    {
     "cell_type": "code",
     "collapsed": false,
     "input": [
      "lgn.volume([x for x in hsv])"
     ],
     "language": "python",
     "metadata": {},
     "outputs": [
      {
       "html": [
        "<meta name=\"viewport\" content=\"width=device-width, initial-scale=1, maximum-scale=1\"/><meta http-equiv=\"X-UA-Compatible\" content=\"IE=10; IE=9; IE=8; IE=7; IE=EDGE\"/><meta charset=\"UTF-8\"/><link href=\"//fonts.googleapis.com/css?family=Open+Sans:400,700\" rel=\"stylesheet\" type=\"text/css\"/><link rel=\"stylesheet\" href=\"http://lightning-docs.herokuapp.com/css/app.css\"/><link rel=\"stylesheet\" href=\"http://lightning-docs.herokuapp.com/css/dynamic/viz/?visualizations[]=volume\"/><div id=\"lightning-body\" class=\"container content wrap push\"><div class=\"feed-container\"><div data-model=\"visualization\" data-model-id=\"155\" class=\"feed-item-container\"><div data-type=\"volume\" data-data=\"null\" data-images=\"[&quot;https://s3.amazonaws.com/i.gif.fm/sessions/46/F8g8qvskpBOII3pHN0u5LXeMJZliD4SE&quot;,&quot;https://s3.amazonaws.com/i.gif.fm/sessions/46/t307POOpPaYeObPL48G06G8REwRCHlQ8&quot;,&quot;https://s3.amazonaws.com/i.gif.fm/sessions/46/GcFtd0gZuMDJObfTgyfrZh0VLSPEYH5a&quot;,&quot;https://s3.amazonaws.com/i.gif.fm/sessions/46/7b8VVtteHEBskA81NUNXRn9BErFbXHWd&quot;,&quot;https://s3.amazonaws.com/i.gif.fm/sessions/46/Ei0ASTiHb7LVkrOD62JG3HcZayTfK37I&quot;,&quot;https://s3.amazonaws.com/i.gif.fm/sessions/46/GpTOgxs2ZCQ91EtGDHezYULvbt9m6wWa&quot;,&quot;https://s3.amazonaws.com/i.gif.fm/sessions/46/a1vSMf1FBqieUzV7f5l1RgOrSMxQMfOX&quot;,&quot;https://s3.amazonaws.com/i.gif.fm/sessions/46/2byx4P4fprwbvmwRU26CHiQXV8SNlcAR&quot;,&quot;https://s3.amazonaws.com/i.gif.fm/sessions/46/neuD7aWBKuLnOx135x875nTOMYV37MNA&quot;,&quot;https://s3.amazonaws.com/i.gif.fm/sessions/46/WlSG9aZqZJVXz2RiUNNzKeRtSzmWg1NR&quot;,&quot;https://s3.amazonaws.com/i.gif.fm/sessions/46/KA7eprotJXLlsppoHk5n83H3Rx89micm&quot;,&quot;https://s3.amazonaws.com/i.gif.fm/sessions/46/d1OHXFoYoxhTEbZyTRBNkGtyhGAg2WCy&quot;,&quot;https://s3.amazonaws.com/i.gif.fm/sessions/46/Oag8bSxTmP2A1OsAl3lUSz9CMHgApMsJ&quot;,&quot;https://s3.amazonaws.com/i.gif.fm/sessions/46/OJRIqrdXlX3sOIDbuqz8zCoDTm8XedC9&quot;,&quot;https://s3.amazonaws.com/i.gif.fm/sessions/46/nPtYgRmtlbf555oZxucIurk7YVwaGer1&quot;,&quot;https://s3.amazonaws.com/i.gif.fm/sessions/46/WQcgkH3tRou4xoPyrLNr1oqmRGVte0lf&quot;,&quot;https://s3.amazonaws.com/i.gif.fm/sessions/46/nK3Mr45JUZvT4e7eDvJrSCzZihadPYHU&quot;,&quot;https://s3.amazonaws.com/i.gif.fm/sessions/46/4hPJ0ZguIBJSrzIkS9eqskaLiWEis0w4&quot;,&quot;https://s3.amazonaws.com/i.gif.fm/sessions/46/WhCutJ59X9orkbPSCnLEt2o5TED45340&quot;,&quot;https://s3.amazonaws.com/i.gif.fm/sessions/46/4TfcA6k9zNAsGGkvHGYLiskm1oCvWcFR&quot;,&quot;https://s3.amazonaws.com/i.gif.fm/sessions/46/CTd9wgRtXbu2PynazKJzNorwI6BAkmn4&quot;,&quot;https://s3.amazonaws.com/i.gif.fm/sessions/46/RSLl5KdVJJW8CcGIkoyJ1FWSh5QyFk59&quot;,&quot;https://s3.amazonaws.com/i.gif.fm/sessions/46/6sOiBRMPiblVzRl1ir4rC9DBgXlVudFO&quot;,&quot;https://s3.amazonaws.com/i.gif.fm/sessions/46/fZXmpdePBZ8xw9SHe11cUMJNuuac1r0v&quot;,&quot;https://s3.amazonaws.com/i.gif.fm/sessions/46/nTqF1ES4NVYLEUEydz6wc0XryiSDHF5f&quot;,&quot;https://s3.amazonaws.com/i.gif.fm/sessions/46/Hfv5gJSa1qLZBm5kA8w5BBl9Wk14MVJb&quot;,&quot;https://s3.amazonaws.com/i.gif.fm/sessions/46/uzXQeEIQ71BUau7FQm49WhmElztyp0hZ&quot;,&quot;https://s3.amazonaws.com/i.gif.fm/sessions/46/p5DdC8RvCTzGKxmsRmwo5gopiHlC45uo&quot;,&quot;https://s3.amazonaws.com/i.gif.fm/sessions/46/J4pHlXDWHab7t5CMswmVPqCEpUT5vy90&quot;,&quot;https://s3.amazonaws.com/i.gif.fm/sessions/46/NKcEVG486lqFBsH8nOI5cF0lOrrdaInZ&quot;,&quot;https://s3.amazonaws.com/i.gif.fm/sessions/46/L9KiF6xt6dC9TiLPgDz8yiEZrq7CapKk&quot;,&quot;https://s3.amazonaws.com/i.gif.fm/sessions/46/JTrUGuO0QMPONvMu2oXN4iXVu9Fa4Hlh&quot;,&quot;https://s3.amazonaws.com/i.gif.fm/sessions/46/0dbgBAe4o6UR0f494DqsQTLD0veTTM6g&quot;,&quot;https://s3.amazonaws.com/i.gif.fm/sessions/46/iHE3i2noe3JJFA3X90087VKc04e5h40A&quot;,&quot;https://s3.amazonaws.com/i.gif.fm/sessions/46/uIdODF6uhTFHgBMR0on7CqT4nDBoPEJF&quot;,&quot;https://s3.amazonaws.com/i.gif.fm/sessions/46/6xaPMUX2iqKwz7cxabduC6AhDOoPd1Q5&quot;,&quot;https://s3.amazonaws.com/i.gif.fm/sessions/46/AnUZrEpdOiYADi9bqaJB1iTvrKCKbahG&quot;,&quot;https://s3.amazonaws.com/i.gif.fm/sessions/46/zQ1rEtieU1CwNC8HmHyqd3OXaTNVJb6e&quot;,&quot;https://s3.amazonaws.com/i.gif.fm/sessions/46/x3pYeOMh2ycBHqTuUJBbN9fq55QrMBfi&quot;,&quot;https://s3.amazonaws.com/i.gif.fm/sessions/46/cBIZWCr9ndz8A1Nf9CTr0IdQtdCa6lwx&quot;,&quot;https://s3.amazonaws.com/i.gif.fm/sessions/46/MgSnex8cvQYzC7GAMLozfdsAKN43Uxhn&quot;,&quot;https://s3.amazonaws.com/i.gif.fm/sessions/46/FpfLMpT3JDtqXWvBsfsRILw0YkxtIaH9&quot;,&quot;https://s3.amazonaws.com/i.gif.fm/sessions/46/DmUAmOHlJplKMaocToYktqCVMXSyMzE1&quot;,&quot;https://s3.amazonaws.com/i.gif.fm/sessions/46/RDCd1Q9gF0bsvoWbHiw6WW3s6xmI9u3s&quot;,&quot;https://s3.amazonaws.com/i.gif.fm/sessions/46/3tyMZxz7thh8WEiCFLig2Ev77i8TIxRK&quot;,&quot;https://s3.amazonaws.com/i.gif.fm/sessions/46/MM1yWKT89lzPAezohL7Q3uUl2Qqpg9bi&quot;,&quot;https://s3.amazonaws.com/i.gif.fm/sessions/46/b7LUIfMlzwumrVec9793oBFfSOO5GQk0&quot;,&quot;https://s3.amazonaws.com/i.gif.fm/sessions/46/xuDWynnmAkvuXSRANtbsVWFW6ZcFLPZY&quot;,&quot;https://s3.amazonaws.com/i.gif.fm/sessions/46/uiHCHH9SXF0Vb0cx28hUECQBdPkOW803&quot;,&quot;https://s3.amazonaws.com/i.gif.fm/sessions/46/3nqvbnSGXX4Kw2g34pxylkavVP4mkebN&quot;]\" data-options=\"null\" id=\"viz-155\" data-initialized=\"false\" class=\"feed-item\"></div></div></div></div><script>window.lightning = window.lightning || {};\n",
        "window.lightning.host = \"http://lightning-docs.herokuapp.com/\" || 'http://127.0.0.1:3000/';\n",
        "window.lightning.vizCount = (window.lightning.vizCount + 1) || 1;\n",
        "window.lightning.requiredVizTypes = window.lightning.requiredVizTypes || [];\n",
        "if(window.lightning.requiredVizTypes.indexOf(\"volume\") === -1) {\n",
        "    window.lightning.requiredVizTypes.push(\"volume\");\n",
        "}\n",
        "window._require = window.require;\n",
        "window.require = undefined;\n",
        "window._define = window.define;\n",
        "window.define = undefined;</script><script src=\"http://lightning-docs.herokuapp.com/js/embed.js\"></script>"
       ],
       "metadata": {},
       "output_type": "pyout",
       "prompt_number": 9,
       "text": [
        "<lightning.types.three.Volume at 0x109bb5c10>"
       ]
      }
     ],
     "prompt_number": 9
    },
    {
     "cell_type": "heading",
     "level": 2,
     "metadata": {},
     "source": [
      "<hr>\n",
      "Seaborn colormaps"
     ]
    },
    {
     "cell_type": "markdown",
     "metadata": {},
     "source": [
      "Let's render one of seaborn's colormaps in 3D."
     ]
    },
    {
     "cell_type": "code",
     "collapsed": false,
     "input": [
      "mat = gaussian_filter(random.rand(25,25,50),2.5)\n",
      "mat = (mat - amin(mat)) / (amax(mat) - amin(mat))\n",
      "mat = clip(((mat - 0.5)*3 + 0.25), 0, 1)"
     ],
     "language": "python",
     "metadata": {},
     "outputs": [],
     "prompt_number": 10
    },
    {
     "cell_type": "markdown",
     "metadata": {},
     "source": [
      "Define a color map, create the slices, then render the volume. Try it with your favorite colormap!"
     ]
    },
    {
     "cell_type": "code",
     "collapsed": false,
     "input": [
      "cm = sns.diverging_palette(10, 220, sep=80, n=7, as_cmap=True)"
     ],
     "language": "python",
     "metadata": {},
     "outputs": [],
     "prompt_number": 11
    },
    {
     "cell_type": "code",
     "collapsed": false,
     "input": [
      "slices = [cm(x)[:,:,0:3] for x in mat]\n",
      "lgn.volume(slices)"
     ],
     "language": "python",
     "metadata": {},
     "outputs": [
      {
       "html": [
        "<meta name=\"viewport\" content=\"width=device-width, initial-scale=1, maximum-scale=1\"/><meta http-equiv=\"X-UA-Compatible\" content=\"IE=10; IE=9; IE=8; IE=7; IE=EDGE\"/><meta charset=\"UTF-8\"/><link href=\"//fonts.googleapis.com/css?family=Open+Sans:400,700\" rel=\"stylesheet\" type=\"text/css\"/><link rel=\"stylesheet\" href=\"http://lightning-docs.herokuapp.com/css/app.css\"/><link rel=\"stylesheet\" href=\"http://lightning-docs.herokuapp.com/css/dynamic/viz/?visualizations[]=volume\"/><div id=\"lightning-body\" class=\"container content wrap push\"><div class=\"feed-container\"><div data-model=\"visualization\" data-model-id=\"157\" class=\"feed-item-container\"><div data-type=\"volume\" data-data=\"null\" data-images=\"[&quot;https://s3.amazonaws.com/i.gif.fm/sessions/46/Ol754c4kXVfNSifB6fZF54iYFSAq0sC2&quot;,&quot;https://s3.amazonaws.com/i.gif.fm/sessions/46/r7GxAKYgbvbkrgnXo4gT1oIVAK30DlNt&quot;,&quot;https://s3.amazonaws.com/i.gif.fm/sessions/46/nBJ2czh1p9mDuHpr8uUXMQQY8gvxXTF3&quot;,&quot;https://s3.amazonaws.com/i.gif.fm/sessions/46/HL5RLNDskksHHvviWFEVAS1JSzUstTSv&quot;,&quot;https://s3.amazonaws.com/i.gif.fm/sessions/46/2KzYbdBn0emGhD3Fkb9aReMrgtE83hPX&quot;,&quot;https://s3.amazonaws.com/i.gif.fm/sessions/46/NRe6KoopBvgkfRnou1eGFMqOxOfAr8nU&quot;,&quot;https://s3.amazonaws.com/i.gif.fm/sessions/46/uND47oxSquQM82DsOP4ovXnb9dT0wA8S&quot;,&quot;https://s3.amazonaws.com/i.gif.fm/sessions/46/URC8t4H5wQVAfvuZIpWg8FwKfPbJrzgg&quot;,&quot;https://s3.amazonaws.com/i.gif.fm/sessions/46/J8DR8wDJNssEoowbnJqGGBIbeAUxtXqt&quot;,&quot;https://s3.amazonaws.com/i.gif.fm/sessions/46/qWBQudni6PPn0gai4VMf3X1qa39MhBaB&quot;,&quot;https://s3.amazonaws.com/i.gif.fm/sessions/46/hFcw38c1TXPOHWeiNpOqahS0JHBIq2Lk&quot;,&quot;https://s3.amazonaws.com/i.gif.fm/sessions/46/wR9tGNIZ5TBrE9A9Lp0Z3W6yEIVK8glr&quot;,&quot;https://s3.amazonaws.com/i.gif.fm/sessions/46/mEJwGvmXPUZxs6heB5T0x6dpCRIwI3es&quot;,&quot;https://s3.amazonaws.com/i.gif.fm/sessions/46/TcIZYekwvrSauKgryS1oGHWpJmnrXa6y&quot;,&quot;https://s3.amazonaws.com/i.gif.fm/sessions/46/2Z0Tlwd33A0p8sk7TZ6v0WG2J2b5RWXC&quot;,&quot;https://s3.amazonaws.com/i.gif.fm/sessions/46/M6AokcP0eJIRBZl8XIrW3PIMNh49A7r2&quot;,&quot;https://s3.amazonaws.com/i.gif.fm/sessions/46/O7xfyJxIT4ZF5NRdmeQf5vXOvnI40DGa&quot;,&quot;https://s3.amazonaws.com/i.gif.fm/sessions/46/W0CKxFi4zLz1DYBWnEZ6OZ8ywEK7FDur&quot;,&quot;https://s3.amazonaws.com/i.gif.fm/sessions/46/yUrDJA9ePMtuiwYK3KVGIG26kUmvhICX&quot;,&quot;https://s3.amazonaws.com/i.gif.fm/sessions/46/BFVkPGUXxZQeTRLU3U5nXvgEm4VbGtz9&quot;,&quot;https://s3.amazonaws.com/i.gif.fm/sessions/46/UHdMDzkxONFJxxamuddvG8M4zOGcKwcW&quot;,&quot;https://s3.amazonaws.com/i.gif.fm/sessions/46/Bc6cdl2X7473urdhhryADlzkTY1CbcEB&quot;,&quot;https://s3.amazonaws.com/i.gif.fm/sessions/46/OLMZ631H7znYuinJQOpuJuMruZYhU3T8&quot;,&quot;https://s3.amazonaws.com/i.gif.fm/sessions/46/uRmEsxW3NYRUxbP4xOfxAHOvquTwlZTv&quot;,&quot;https://s3.amazonaws.com/i.gif.fm/sessions/46/6o0oVcm1eOQYeEQRCMiWvXhAfxNqN20Q&quot;]\" data-options=\"null\" id=\"viz-157\" data-initialized=\"false\" class=\"feed-item\"></div></div></div></div><script>window.lightning = window.lightning || {};\n",
        "window.lightning.host = \"http://lightning-docs.herokuapp.com/\" || 'http://127.0.0.1:3000/';\n",
        "window.lightning.vizCount = (window.lightning.vizCount + 1) || 1;\n",
        "window.lightning.requiredVizTypes = window.lightning.requiredVizTypes || [];\n",
        "if(window.lightning.requiredVizTypes.indexOf(\"volume\") === -1) {\n",
        "    window.lightning.requiredVizTypes.push(\"volume\");\n",
        "}\n",
        "window._require = window.require;\n",
        "window.require = undefined;\n",
        "window._define = window.define;\n",
        "window.define = undefined;</script><script src=\"http://lightning-docs.herokuapp.com/js/embed.js\"></script>"
       ],
       "metadata": {},
       "output_type": "pyout",
       "prompt_number": 13,
       "text": [
        "<lightning.types.three.Volume at 0x109ba0810>"
       ]
      }
     ],
     "prompt_number": 13
    }
   ],
   "metadata": {}
  }
 ]
}