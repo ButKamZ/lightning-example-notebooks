{
 "metadata": {
  "name": "",
  "signature": "sha256:ee20ba8a3e839023d4294d8484916c4b2fba5bed8fd482b7301937ba72227cdd"
 },
 "nbformat": 3,
 "nbformat_minor": 0,
 "worksheets": [
  {
   "cells": [
    {
     "cell_type": "heading",
     "level": 1,
     "metadata": {},
     "source": [
      "<img style='float: left' src=\"http://lightning-viz.github.io/images/logo.png\">\n",
      "<br>\n",
      "<br>\n",
      "&nbsp;&nbsp;&nbsp;&nbsp;&nbsp;<a href='http://lightning-viz.github.io/'><font color='#9175f0'>Lightning</font></a> and the IPython notebook"
     ]
    },
    {
     "cell_type": "markdown",
     "metadata": {},
     "source": [
      "<hr><p>Lightning is a data-visualization server providing API-based access to reproducible, web-based, interactive visualizations. It includes a core set of visualization types, but is built for extendability and customization. Lightning supports modern libraries like d3.js and three.js, and is designed for interactivity over large data sets and continuously updating data streams.</p>"
     ]
    },
    {
     "cell_type": "markdown",
     "metadata": {},
     "source": [
      "# Example Notebooks\n",
      "\n",
      "## Plots\n",
      "\n",
      "### [Scatter](http://nbviewer.ipython.org/github/lightning-viz/lightning-example-notebooks/blob/master/plots/scatter.ipynb)\n",
      "\n",
      "[![scatter](http://lightning-viz.org/images/examples/scatter.png)](http://nbviewer.ipython.org/github/lightning-viz/lightning-example-notebooks/blob/master/plots/scatter.ipynb)\n",
      "\n",
      "### [Line](http://nbviewer.ipython.org/github/lightning-viz/lightning-example-notebooks/blob/master/plots/line.ipynb)\n",
      "\n",
      "[![line](http://lightning-viz.org/images/examples/line.png)](http://nbviewer.ipython.org/github/lightning-viz/lightning-example-notebooks/blob/master/plots/line.ipynb)\n",
      "\n",
      "\n",
      "### [Line stacked](http://nbviewer.ipython.org/github/lightning-viz/lightning-example-notebooks/blob/master/plots/linestacked.ipynb)\n",
      "\n",
      "[![Line stacked](http://lightning-viz.org/images/examples/line-stacked.png)](http://nbviewer.ipython.org/github/lightning-viz/lightning-example-notebooks/blob/master/plots/linestacked.ipynb)\n",
      "\n",
      "\n",
      "### [Force](http://nbviewer.ipython.org/github/lightning-viz/lightning-example-notebooks/blob/master/plots/force.ipynb)\n",
      "\n",
      "[![Force](http://lightning-viz.org/images/examples/force-graph.png)](http://nbviewer.ipython.org/github/lightning-viz/lightning-example-notebooks/blob/master/plots/force.ipynb)\n",
      "\n",
      "\n",
      "### [Graph](http://nbviewer.ipython.org/github/lightning-viz/lightning-example-notebooks/blob/master/plots/graph.ipynb)\n",
      "\n",
      "[![Graph](http://lightning-viz.org/images/examples/graph.png)](http://nbviewer.ipython.org/github/lightning-viz/lightning-example-notebooks/blob/master/plots/graph.ipynb)\n",
      "\n",
      "\n",
      "### [Matrix](http://nbviewer.ipython.org/github/lightning-viz/lightning-example-notebooks/blob/master/plots/scatter.ipynb)\n",
      "\n",
      "[![Matrix](http://lightning-viz.org/images/examples/matrix.png)](http://nbviewer.ipython.org/github/lightning-viz/lightning-example-notebooks/blob/master/plots/matrix.ipynb)\n",
      "\n",
      "\n",
      "\n",
      "## Linked\n",
      "\n",
      "### [Scatter Line](http://nbviewer.ipython.org/github/lightning-viz/lightning-example-notebooks/blob/master/linked/scatterline.ipynb)\n",
      "\n",
      "[![Scatter Line](http://lightning-viz.org/images/examples/scatter-line.png)](http://nbviewer.ipython.org/github/lightning-viz/lightning-example-notebooks/blob/master/linked/scatterline.ipynb)\n",
      "\n",
      "\n",
      "* [Scatter Line](http://nbviewer.ipython.org/github/lightning-viz/lightning-example-notebooks/blob/master/linked/scatterline.ipynb)\n",
      "\n",
      "## Images\n",
      "\n",
      "### [Image and gallery](http://nbviewer.ipython.org/github/lightning-viz/lightning-example-notebooks/blob/master/images/images.ipynb)\n",
      "\n",
      "[![Image and gallery](http://lightning-viz.org/images/examples/image.png)](http://nbviewer.ipython.org/github/lightning-viz/lightning-example-notebooks/blob/master/images/images.ipynb)\n",
      "\n",
      "## 3D\n",
      "\n",
      "\n",
      "### [Scatter3](http://nbviewer.ipython.org/github/lightning-viz/lightning-example-notebooks/blob/master/3D/scatter3.ipynb)\n",
      "\n",
      "[![Scatter3](http://lightning-viz.org/images/examples/particles.png)](http://nbviewer.ipython.org/github/lightning-viz/lightning-example-notebooks/blob/master/3D/scatter3.ipynb)\n",
      "\n",
      "\n",
      "### [Volume](http://nbviewer.ipython.org/github/lightning-viz/lightning-example-notebooks/blob/master/3D/volume.ipynb)\n",
      "\n",
      "[![Volume](http://lightning-viz.org/images/examples/volume.png)](http://nbviewer.ipython.org/github/lightning-viz/lightning-example-notebooks/blob/master/3D/volume.ipynb)\n"
     ]
    },
    {
     "cell_type": "markdown",
     "metadata": {},
     "source": [
      "<hr>"
     ]
    },
    {
     "cell_type": "markdown",
     "metadata": {},
     "source": [
      "\n",
      "# Links\n",
      "\n",
      "* [Project Website](http://lightning-viz.org/)\n",
      "* [Github](https://github.com/lightning-viz)\n",
      "\n"
     ]
    },
    {
     "cell_type": "markdown",
     "metadata": {},
     "source": [
      "\n",
      "# Questions?\n",
      "\n",
      "Contact:\n",
      "\n",
      "* [@mathisonian](http://twitter.com/mathisonian)\n",
      "* [@thefreemanlab](http://twitter.com/thefreemanlab)\n",
      "\n",
      "or join our chat:\n",
      "\n",
      "[![Gitter](https://badges.gitter.im/Join%20Chat.svg)](https://gitter.im/lightning-viz/lightning?utm_source=badge&utm_medium=badge&utm_campaign=pr-badge&utm_content=badge)\n",
      "\n",
      "\n",
      "<br>\n",
      "<br>\n",
      "\n"
     ]
    },
    {
     "cell_type": "code",
     "collapsed": false,
     "input": [],
     "language": "python",
     "metadata": {},
     "outputs": []
    }
   ],
   "metadata": {}
  }
 ]
}