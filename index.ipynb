{
 "metadata": {
  "name": "",
  "signature": "sha256:07dd00e9c94208e895ed7d6c30dbad9e3dc8f137b34aac24f8e13cc690a4a131"
 },
 "nbformat": 3,
 "nbformat_minor": 0,
 "worksheets": [
  {
   "cells": [
    {
     "cell_type": "markdown",
     "metadata": {},
     "source": [
      "<img style='float: left' align='left' src=\"http://lightning-viz.github.io/images/logo.png\">\n",
      "<br>\n",
      "<br>\n",
      "<h1 style=\"font-size:40px; margin-top:-10px\">&nbsp;&nbsp;&nbsp;&nbsp;&nbsp;<a href='http://lightning-viz.github.io/'><font color='#9175f0'>Lightning</font></a> and the IPython notebook</h1>"
     ]
    },
    {
     "cell_type": "markdown",
     "metadata": {},
     "source": [
      "<p style=\"margin-right:40%; margin-left:5%; font-size:16px\">Lightning is a <b>data-visualization server</b> providing API-based access to reproducible, web-based, interactive visualizations. It includes a <b>core set</b> of visualization types, but is built for extendability and customization. Lightning supports modern libraries like <b>d3.js</b> and <b>three.js</b>, and is designed for interactivity over large data sets and continuously updating data streams.</p>"
     ]
    },
    {
     "cell_type": "markdown",
     "metadata": {},
     "source": [
      "<br>\n",
      "<br>\n",
      "<a class='button' href='api.html'>Python docs</a>\n",
      "<a class='button' href='http://lightning-viz.org'>Project page</a>\n",
      "<a class='button' href='https://github.com/lightning-viz'>Github</a>\n",
      "<a class='button' href='https://gitter.im/lightning-viz/lightning?utm_source=badge&utm_medium=badge&utm_campaign=pr-badge&utm_content=badge'>Chatroom</a>\n",
      "<br>\n",
      "<br>"
     ]
    },
    {
     "cell_type": "markdown",
     "metadata": {},
     "source": [
      "<hr style=\"border-top-width: 4px; border-top-color: #8F7BD9;\">"
     ]
    },
    {
     "cell_type": "markdown",
     "metadata": {},
     "source": [
      "<h1>Select a plot type to see an example notebook</h1>"
     ]
    },
    {
     "cell_type": "markdown",
     "metadata": {},
     "source": [
      "<hr>"
     ]
    },
    {
     "cell_type": "markdown",
     "metadata": {},
     "source": [
      "## Plots\n",
      "\n",
      "<br>\n",
      "\n",
      "<a data-content=\"Scatter\" href=\"http://nbviewer.ipython.org/github/lightning-viz/lightning-example-notebooks/tree/master/plots/scatter.ipynb\" class=\"test\"><img class='thumbnail' src=\"https://raw.githubusercontent.com/lightning-viz/lightning-python/master/doc/source/_static/images.notebook/scatter.png\"></a>\n",
      "\n",
      "<a data-content=\"Line\" href=\"http://nbviewer.ipython.org/github/lightning-viz/lightning-example-notebooks/tree/master/plots/line.ipynb\" class=\"test\"><img class='thumbnail' src=\"https://raw.githubusercontent.com/lightning-viz/lightning-python/master/doc/source/_static/images.notebook/line.png\"></a>\n",
      "\n",
      "<a data-content=\"Line stacked\" href=\"http://nbviewer.ipython.org/github/lightning-viz/lightning-example-notebooks/tree/master/plots/linestacked.ipynb\" class=\"test\"><img class='thumbnail' src=\"https://raw.githubusercontent.com/lightning-viz/lightning-python/master/doc/source/_static/images.notebook/linestacked.png\"></a>\n",
      "\n",
      "<a data-content=\"Force\" href=\"http://nbviewer.ipython.org/github/lightning-viz/lightning-example-notebooks/tree/master/plots/force.ipynb\" class=\"test\"><img class='thumbnail' src=\"https://raw.githubusercontent.com/lightning-viz/lightning-python/master/doc/source/_static/images.notebook/force.png\"></a>\n",
      "\n",
      "<a data-content=\"Graph\" href=\"http://nbviewer.ipython.org/github/lightning-viz/lightning-example-notebooks/tree/master/plots/graph.ipynb\" class=\"test\"><img class='thumbnail' src=\"https://raw.githubusercontent.com/lightning-viz/lightning-python/master/doc/source/_static/images.notebook/graph.png\"></a>\n",
      "\n",
      "<a data-content=\"Graph bundled\" href=\"http://nbviewer.ipython.org/github/lightning-viz/lightning-example-notebooks/tree/master/plots/graph.ipynb\" class=\"test\"><img class='thumbnail' src=\"https://raw.githubusercontent.com/lightning-viz/lightning-python/master/doc/source/_static/images.notebook/graphbundled.png\"></a>\n",
      "\n",
      "<a data-content=\"Matrix\" href=\"http://nbviewer.ipython.org/github/lightning-viz/lightning-example-notebooks/tree/master/plots/matrix.ipynb\" class=\"test\"><img class='thumbnail' src=\"https://raw.githubusercontent.com/lightning-viz/lightning-python/master/doc/source/_static/images.notebook/matrix.png\"></a>\n",
      "\n",
      "<a data-content=\"Adjacency\" href=\"http://nbviewer.ipython.org/github/lightning-viz/lightning-example-notebooks/tree/master/plots/matrix.ipynb\" class=\"test\"><img class='thumbnail' src=\"https://raw.githubusercontent.com/lightning-viz/lightning-python/master/doc/source/_static/images.notebook/adjacency.png\"></a>\n",
      "\n",
      "<a data-content=\"Map\" href=\"http://nbviewer.ipython.org/github/lightning-viz/lightning-example-notebooks/tree/master/plots/map.ipynb\" class=\"test\"><img class='thumbnail' src=\"https://raw.githubusercontent.com/lightning-viz/lightning-python/master/doc/source/_static/images.notebook/map.png\"></a>\n"
     ]
    },
    {
     "cell_type": "markdown",
     "metadata": {},
     "source": [
      "<hr>"
     ]
    },
    {
     "cell_type": "markdown",
     "metadata": {},
     "source": [
      "## Images\n",
      "\n",
      "<br>\n",
      "\n",
      "<a data-content=\"Image\" href=\"http://nbviewer.ipython.org/github/lightning-viz/lightning-example-notebooks/tree/master/images/images.ipynb\" class=\"test\"><img class='thumbnail' src=\"https://raw.githubusercontent.com/lightning-viz/lightning-python/master/doc/source/_static/images.notebook/image.png\"></a>\n",
      "\n",
      "<a data-content=\"Gallery\" href=\"http://nbviewer.ipython.org/github/lightning-viz/lightning-example-notebooks/tree/master/images/images.ipynb\" class=\"test\"><img class='thumbnail' src=\"https://raw.githubusercontent.com/lightning-viz/lightning-python/master/doc/source/_static/images.notebook/gallery.png\"></a>\n"
     ]
    },
    {
     "cell_type": "markdown",
     "metadata": {},
     "source": [
      "<hr>"
     ]
    },
    {
     "cell_type": "markdown",
     "metadata": {},
     "source": [
      "## 3D\n",
      "\n",
      "<br>\n",
      "\n",
      "<a data-content=\"Scatter3\" href=\"http://nbviewer.ipython.org/github/lightning-viz/lightning-example-notebooks/tree/master/3D/scatter3.ipynb\" class=\"test\"><img class='thumbnail' src=\"https://raw.githubusercontent.com/lightning-viz/lightning-python/master/doc/source/_static/images.notebook/scatter3.png\"></a>\n",
      "\n",
      "<a data-content=\"Volume\" href=\"http://nbviewer.ipython.org/github/lightning-viz/lightning-example-notebooks/tree/master/3D/volume.ipynb\" class=\"test\"><img class='thumbnail' src=\"https://raw.githubusercontent.com/lightning-viz/lightning-python/master/doc/source/_static/images.notebook/volume.png\"></a>"
     ]
    },
    {
     "cell_type": "markdown",
     "metadata": {},
     "source": [
      "<hr>"
     ]
    },
    {
     "cell_type": "markdown",
     "metadata": {},
     "source": [
      "## Linked\n",
      "\n",
      "<br>\n",
      "\n",
      "<a data-content=\"Scatter-Line\" href=\"http://nbviewer.ipython.org/github/lightning-viz/lightning-example-notebooks/tree/master/linked/scatterline.ipynb\" class=\"test\"><img class='thumbnail' src=\"https://raw.githubusercontent.com/lightning-viz/lightning-python/master/doc/source/_static/images.notebook/scatterline.png\"></a>\n"
     ]
    },
    {
     "cell_type": "markdown",
     "metadata": {},
     "source": [
      "<hr style=\"border-top-width: 4px; border-top-color: #8F7BD9;\">"
     ]
    },
    {
     "cell_type": "markdown",
     "metadata": {},
     "source": [
      "<br>\n",
      "# Questions? Contact us:[@mathisonian](http://twitter.com/mathisonian) [@thefreemanlab](http://twitter.com/thefreemanlab) \n",
      "\n",
      "<a style='float:left' href='https://gitter.im/lightning-viz/lightning?utm_source=badge&utm_medium=badge&utm_campaign=pr-badge&utm_content=badge'><img src='https://badges.gitter.im/Join%20Chat.svg'></a>\n",
      "\n",
      "<br>\n",
      "<br>\n",
      "<br>"
     ]
    },
    {
     "cell_type": "code",
     "collapsed": false,
     "input": [
      "# CSS styling\n",
      "from IPython.core.display import display, HTML\n",
      "display(HTML(open('styles/styles.css', 'r').read()));"
     ],
     "language": "python",
     "metadata": {},
     "outputs": [
      {
       "html": [
        "<style>\n",
        "\n",
        "@font-face{\n",
        "    font-family:\"AvenirNext-UltraLight\";\n",
        "    src:url(\"styles/fonts/17c55b27-e9ab-43cd-b948-d49f97480d68.eot?#iefix\");\n",
        "    src:url(\"styles/fonts/17c55b27-e9ab-43cd-b948-d49f97480d68.eot?#iefix\") format(\"eot\"),url(\"styles/fonts/fa19948e-5e38-4909-b31e-41acd170d6f2.woff\") format(\"woff\"),url(\"styles/fonts/6de0ce4d-9278-467b-b96f-c1f5f0a4c375.ttf\") format(\"truetype\"),url(\"styles/fonts/9fd4ea0c-b19a-4b21-9fdf-37045707dd78.svg#9fd4ea0c-b19a-4b21-9fdf-37045707dd78\") format(\"svg\");\n",
        "}\n",
        "\n",
        "@font-face{\n",
        "    font-family:\"AvenirNext\";\n",
        "    src:url(\"styles/fonts/e9167238-3b3f-4813-a04a-a384394eed42.eot?#iefix\");\n",
        "    src:url(\"styles/fonts/e9167238-3b3f-4813-a04a-a384394eed42.eot?#iefix\") format(\"eot\"),url(\"styles/fonts/1e9892c0-6927-4412-9874-1b82801ba47a.woff\") format(\"woff\"),url(\"styles/fonts/46cf1067-688d-4aab-b0f7-bd942af6efd8.ttf\") format(\"truetype\"),url(\"styles/fonts/52a192b1-bea5-4b48-879f-107f009b666f.svg#52a192b1-bea5-4b48-879f-107f009b666f\") format(\"svg\");\n",
        "}\n",
        "\n",
        "body, p {\n",
        "  color: #2d3c48;\n",
        "  font-family: 'AvenirNext', sans-serif;\n",
        "  font-weight: normal;\n",
        "  -webkit-font-smoothing: antialiased;\n",
        "}\n",
        "\n",
        ".thumbnail {\n",
        "\tfloat: left;\n",
        "\twidth: 100%;\n",
        "\theight: 100%;\n",
        "\tmargin-right: 10px;\n",
        "\tmargin-bottom: 10px;\n",
        "\t-web-kit-shadow: None !important;\n",
        "\tbox-shadow: None !important;\n",
        "}\n",
        "\n",
        ".test {\n",
        "    float: left;\n",
        "    position: relative;\n",
        "    width:28%;\n",
        "    height:100%;\n",
        "    margin-right: 20px;\n",
        "}\n",
        ".test img {\n",
        "    float: left;\n",
        "    width:100%;\n",
        "    height:100%;\n",
        "}\n",
        ".test:after {\n",
        "    font-size: 40px;\n",
        "    text-align: center;\n",
        "    content: attr(data-content);\n",
        "    color:#fff;\n",
        "    position: absolute;\n",
        "    width:100%; height:66%;\n",
        "    top:0px; left:0px;\n",
        "    background:rgba(0,0,0,0.6);\n",
        "    opacity:0;\n",
        "    transition: all 0.5s;\n",
        "    -webkit-transition: all 0.5s;\n",
        "    padding-left: 5px;\n",
        "    padding-right: 5px;\n",
        "    padding-top: 20%;\n",
        "    border-radius: 4px;\n",
        "    margin-right: 10px;\n",
        "}\n",
        ".test:hover:after {\n",
        "    opacity:0.8;\n",
        "}\n",
        "\n",
        "h1,\n",
        "h2,\n",
        "h3,\n",
        "h4,\n",
        "h5,\n",
        "h6 {\n",
        "    font-family: 'AvenirNext-UltraLight', sans-serif;\n",
        "    font-weight: bold;\n",
        "    color: #545E6B;\n",
        "}\n",
        "\n",
        "p {\n",
        "    color: #222;\n",
        "}\n",
        "\n",
        "a {\n",
        "    text-decoration: none !important;\n",
        "    color: #8F7BD9;\n",
        "    line-height: 19px;\n",
        "    transition: all .25s; \n",
        "    -moz-transition: all .25s; \n",
        "    -webkit-transition: all .25s;\n",
        "}\n",
        "\n",
        "a:hover {\n",
        "\tcolor: #A997EB;\n",
        "\ttext-decoration: none !important;\n",
        "}\n",
        "\n",
        "a:active {\n",
        "\tcolor: #59A2E6;\n",
        "\ttext-decoration: none !important;\n",
        "}\n",
        "\n",
        ".button {\n",
        "  padding-left: 40px;\n",
        "  padding-right: 40px;\n",
        "  padding-top: 10px;\n",
        "  padding-bottom: 10px;\n",
        "  margin-right: 20px;\n",
        "  border: 1px solid #9175f0;\n",
        "  box-shadow: inset 0px 1px 0px 0px rgba(255,255,255,0.30);\n",
        "  border-radius: 3px;\n",
        "  font-size: 24px;\n",
        "  color: #9175f0;\n",
        "  line-height: 26px;\n",
        "}\n",
        "\n",
        ".button:hover {\n",
        "  color: #A997EB;\n",
        "  background-color: rgb(240,240,240);\n",
        "\n",
        "}\n"
       ],
       "metadata": {},
       "output_type": "display_data",
       "text": [
        "<IPython.core.display.HTML at 0x10494d7d0>"
       ]
      }
     ],
     "prompt_number": 186
    }
   ],
   "metadata": {}
  }
 ]
}