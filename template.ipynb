{
 "metadata": {
  "name": "",
  "signature": "sha256:dc90db77f49f5f176ec890f7f98d7e33345d907e1c3f99f73ae6281abf3817f4"
 },
 "nbformat": 3,
 "nbformat_minor": 0,
 "worksheets": [
  {
   "cells": [
    {
     "cell_type": "heading",
     "level": 1,
     "metadata": {},
     "source": [
      "<img style='float: left' src=\"http://lightning-viz.github.io/images/logo.png\">\n",
      "<br>\n",
      "<br>\n",
      "&nbsp;&nbsp;&nbsp;&nbsp;&nbsp;TYPE plots in <a href='http://lightning-viz.github.io/'><font color='#9175f0'>Lightning</font></a>"
     ]
    },
    {
     "cell_type": "heading",
     "level": 2,
     "metadata": {},
     "source": [
      "<hr>\n",
      "Setup"
     ]
    },
    {
     "cell_type": "code",
     "collapsed": false,
     "input": [
      "import os\n",
      "from lightning import Lightning\n",
      "\n",
      "from numpy import random, asarray"
     ],
     "language": "python",
     "metadata": {},
     "outputs": [],
     "prompt_number": 4
    },
    {
     "cell_type": "code",
     "collapsed": false,
     "input": [
      "# replace with your own host and credentials, e.g. http://localhost:3000 or http://my-lightning-server.herokuapp.com\n",
      "host = 'http://lightning-docs.herokuapp.com'\n",
      "auth = (os.getenv('LIGHTNING_USERNAME'), os.getenv('LIGHTNING_PASSWORD'))"
     ],
     "language": "python",
     "metadata": {},
     "outputs": [],
     "prompt_number": 5
    },
    {
     "cell_type": "code",
     "collapsed": false,
     "input": [
      "lgn = Lightning(ipython=True, host=host, auth=auth)\n",
      "lgn.create_session('TYPE');"
     ],
     "language": "python",
     "metadata": {},
     "outputs": []
    }
   ],
   "metadata": {}
  }
 ]
}