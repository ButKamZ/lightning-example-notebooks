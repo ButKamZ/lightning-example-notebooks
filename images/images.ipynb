{
 "metadata": {
  "name": "",
  "signature": "sha256:3442cd12a262bd0f265d3fce2e636cc35cc62e0c0ff3eb58f2c62ad0aac188f8"
 },
 "nbformat": 3,
 "nbformat_minor": 0,
 "worksheets": [
  {
   "cells": [
    {
     "cell_type": "heading",
     "level": 1,
     "metadata": {},
     "source": [
      "<img style='float: left' src=\"http://lightning-viz.github.io/images/logo.png\">\n",
      "<br>\n",
      "<br>\n",
      "&nbsp;&nbsp;&nbsp;&nbsp;&nbsp;Image and gallery plots in <a href='http://lightning-viz.github.io/'><font color='#9175f0'>Lightning</font></a>"
     ]
    },
    {
     "cell_type": "heading",
     "level": 2,
     "metadata": {},
     "source": [
      "<hr>\n",
      "Setup"
     ]
    },
    {
     "cell_type": "code",
     "collapsed": false,
     "input": [
      "import os\n",
      "from lightning import Lightning\n",
      "\n",
      "from numpy import random, asarray, concatenate\n",
      "from sklearn import datasets"
     ],
     "language": "python",
     "metadata": {},
     "outputs": [],
     "prompt_number": 1
    },
    {
     "cell_type": "code",
     "collapsed": false,
     "input": [
      "# replace with your own host and credentials, e.g. http://localhost:3000 or http://my-lightning-server.herokuapp.com\n",
      "host = 'http://lightning-docs.herokuapp.com'\n",
      "auth = (os.getenv('LIGHTNING_USERNAME'), os.getenv('LIGHTNING_PASSWORD'))"
     ],
     "language": "python",
     "metadata": {},
     "outputs": [],
     "prompt_number": 2
    },
    {
     "cell_type": "code",
     "collapsed": false,
     "input": [
      "lgn = Lightning(ipython=True, host=host, auth=auth)\n",
      "lgn.create_session('images-python');"
     ],
     "language": "python",
     "metadata": {},
     "outputs": [],
     "prompt_number": 3
    },
    {
     "cell_type": "heading",
     "level": 2,
     "metadata": {},
     "source": [
      "<hr>\n",
      "Basic image viewing"
     ]
    },
    {
     "cell_type": "markdown",
     "metadata": {},
     "source": [
      "The image plot type shows image with easy zooming and panning. Hold command to pan.\n",
      "<br>\n",
      "Lightning's image viewer is powered by leaflet, so easily handles panning through very large images."
     ]
    },
    {
     "cell_type": "code",
     "collapsed": false,
     "input": [
      "imgs = datasets.load_sample_images().images\n",
      "lgn.image(imgs[0])"
     ],
     "language": "python",
     "metadata": {},
     "outputs": [
      {
       "html": [
        "<meta name=\"viewport\" content=\"width=device-width, initial-scale=1, maximum-scale=1\"/><meta http-equiv=\"X-UA-Compatible\" content=\"IE=10; IE=9; IE=8; IE=7; IE=EDGE\"/><meta charset=\"UTF-8\"/><link href=\"//fonts.googleapis.com/css?family=Open+Sans:400,700\" rel=\"stylesheet\" type=\"text/css\"/><link rel=\"stylesheet\" href=\"http://lightning-docs.herokuapp.com/css/app.css\"/><link rel=\"stylesheet\" href=\"http://lightning-docs.herokuapp.com/css/dynamic/viz/?visualizations[]=image\"/><div id=\"lightning-body\" class=\"container content wrap push\"><div class=\"feed-container\"><div data-model=\"visualization\" data-model-id=\"94\" class=\"feed-item-container\"><div data-type=\"image\" data-data=\"null\" data-images=\"[&quot;https://s3.amazonaws.com/i.gif.fm/sessions/35/6Blc3czMIK8MFR4bvTpmrSvxiG2NOThR&quot;]\" data-options=\"null\" id=\"viz-94\" data-initialized=\"false\" class=\"feed-item\"></div></div></div></div><script>window.lightning = window.lightning || {};\n",
        "window.lightning.host = window.lightning.host || \"http://lightning-docs.herokuapp.com/\" || 'http://127.0.0.1:3000/';\n",
        "window.lightning.vizCount = (window.lightning.vizCount + 1) || 1;\n",
        "window.lightning.requiredVizTypes = window.lightning.requiredVizTypes || [];\n",
        "if(window.lightning.requiredVizTypes.indexOf(\"image\") === -1) {\n",
        "    window.lightning.requiredVizTypes.push(\"image\");\n",
        "}\n",
        "window._require = window.require;\n",
        "window.require = undefined;\n",
        "window._define = window.define;\n",
        "window.define = undefined;</script><script src=\"http://lightning-docs.herokuapp.com/js/embed.js\"></script>"
       ],
       "metadata": {},
       "output_type": "pyout",
       "prompt_number": 4,
       "text": [
        "<lightning.types.images.Image at 0x106b383d0>"
       ]
      }
     ],
     "prompt_number": 4
    },
    {
     "cell_type": "markdown",
     "metadata": {},
     "source": [
      "Single-channel images will automatically be presented as grayscale."
     ]
    },
    {
     "cell_type": "code",
     "collapsed": false,
     "input": [
      "imgs = datasets.load_sample_images().images\n",
      "lgn.image(imgs[0][:,:,0])"
     ],
     "language": "python",
     "metadata": {},
     "outputs": [
      {
       "html": [
        "<meta name=\"viewport\" content=\"width=device-width, initial-scale=1, maximum-scale=1\"/><meta http-equiv=\"X-UA-Compatible\" content=\"IE=10; IE=9; IE=8; IE=7; IE=EDGE\"/><meta charset=\"UTF-8\"/><link href=\"//fonts.googleapis.com/css?family=Open+Sans:400,700\" rel=\"stylesheet\" type=\"text/css\"/><link rel=\"stylesheet\" href=\"http://lightning-docs.herokuapp.com/css/app.css\"/><link rel=\"stylesheet\" href=\"http://lightning-docs.herokuapp.com/css/dynamic/viz/?visualizations[]=image\"/><div id=\"lightning-body\" class=\"container content wrap push\"><div class=\"feed-container\"><div data-model=\"visualization\" data-model-id=\"95\" class=\"feed-item-container\"><div data-type=\"image\" data-data=\"null\" data-images=\"[&quot;https://s3.amazonaws.com/i.gif.fm/sessions/35/GVo5CElhL9ggWflMPcXBlTCL8EmyoCQ8&quot;]\" data-options=\"null\" id=\"viz-95\" data-initialized=\"false\" class=\"feed-item\"></div></div></div></div><script>window.lightning = window.lightning || {};\n",
        "window.lightning.host = window.lightning.host || \"http://lightning-docs.herokuapp.com/\" || 'http://127.0.0.1:3000/';\n",
        "window.lightning.vizCount = (window.lightning.vizCount + 1) || 1;\n",
        "window.lightning.requiredVizTypes = window.lightning.requiredVizTypes || [];\n",
        "if(window.lightning.requiredVizTypes.indexOf(\"image\") === -1) {\n",
        "    window.lightning.requiredVizTypes.push(\"image\");\n",
        "}\n",
        "window._require = window.require;\n",
        "window.require = undefined;\n",
        "window._define = window.define;\n",
        "window.define = undefined;</script><script src=\"http://lightning-docs.herokuapp.com/js/embed.js\"></script>"
       ],
       "metadata": {},
       "output_type": "pyout",
       "prompt_number": 5,
       "text": [
        "<lightning.types.images.Image at 0x1086ac450>"
       ]
      }
     ],
     "prompt_number": 5
    },
    {
     "cell_type": "heading",
     "level": 2,
     "metadata": {},
     "source": [
      "<hr>\n",
      "Region drawing"
     ]
    },
    {
     "cell_type": "markdown",
     "metadata": {},
     "source": [
      "The basic image viewer let's you draw polygonal regions on images and then query them in the same notebook!\n",
      "<br>\n",
      "Try drawing a region on the image. Hold command to pan, and option to edit the region. \n",
      "<br>\n",
      "Note that we assign the visualization to an output variable, so that we can query it later, but we must print that output to get the image to show."
     ]
    },
    {
     "cell_type": "code",
     "collapsed": false,
     "input": [
      "imgs = datasets.load_sample_images().images\n",
      "viz = lgn.image(imgs[0])\n",
      "viz"
     ],
     "language": "python",
     "metadata": {},
     "outputs": [
      {
       "html": [
        "<meta name=\"viewport\" content=\"width=device-width, initial-scale=1, maximum-scale=1\"/><meta http-equiv=\"X-UA-Compatible\" content=\"IE=10; IE=9; IE=8; IE=7; IE=EDGE\"/><meta charset=\"UTF-8\"/><link href=\"//fonts.googleapis.com/css?family=Open+Sans:400,700\" rel=\"stylesheet\" type=\"text/css\"/><link rel=\"stylesheet\" href=\"http://lightning-docs.herokuapp.com/css/app.css\"/><link rel=\"stylesheet\" href=\"http://lightning-docs.herokuapp.com/css/dynamic/viz/?visualizations[]=image\"/><div id=\"lightning-body\" class=\"container content wrap push\"><div class=\"feed-container\"><div data-model=\"visualization\" data-model-id=\"96\" class=\"feed-item-container\"><div data-type=\"image\" data-data=\"null\" data-images=\"[&quot;https://s3.amazonaws.com/i.gif.fm/sessions/35/GvQbfbyLdLRAeSopBtNhpd0IiDvIVOuS&quot;]\" data-options=\"null\" id=\"viz-96\" data-initialized=\"false\" class=\"feed-item\"></div></div></div></div><script>window.lightning = window.lightning || {};\n",
        "window.lightning.host = window.lightning.host || \"http://lightning-docs.herokuapp.com/\" || 'http://127.0.0.1:3000/';\n",
        "window.lightning.vizCount = (window.lightning.vizCount + 1) || 1;\n",
        "window.lightning.requiredVizTypes = window.lightning.requiredVizTypes || [];\n",
        "if(window.lightning.requiredVizTypes.indexOf(\"image\") === -1) {\n",
        "    window.lightning.requiredVizTypes.push(\"image\");\n",
        "}\n",
        "window._require = window.require;\n",
        "window.require = undefined;\n",
        "window._define = window.define;\n",
        "window.define = undefined;</script><script src=\"http://lightning-docs.herokuapp.com/js/embed.js\"></script>"
       ],
       "metadata": {},
       "output_type": "pyout",
       "prompt_number": 6,
       "text": [
        "<lightning.types.images.Image at 0x1086ac0d0>"
       ]
      }
     ],
     "prompt_number": 6
    },
    {
     "cell_type": "markdown",
     "metadata": {},
     "source": [
      "Draw some regions on the image above. Then check the value of `viz.coords`."
     ]
    },
    {
     "cell_type": "code",
     "collapsed": false,
     "input": [
      "viz.coords"
     ],
     "language": "python",
     "metadata": {},
     "outputs": [
      {
       "metadata": {},
       "output_type": "pyout",
       "prompt_number": 10,
       "text": [
        "[]"
       ]
      }
     ],
     "prompt_number": 10
    },
    {
     "cell_type": "markdown",
     "metadata": {},
     "source": [
      "In this case we drew four regions, so we get four arrays of coordinates (in original image space).\n",
      "<br>\n",
      "The region overlays themselves do not persist on the image after a refresh, so you'll have to draw your own to see them."
     ]
    },
    {
     "cell_type": "heading",
     "level": 2,
     "metadata": {},
     "source": [
      "<hr>\n",
      "Gallery"
     ]
    },
    {
     "cell_type": "markdown",
     "metadata": {},
     "source": [
      "The gallery viewer is an easy way to look at and browse multiple images simultaneously."
     ]
    },
    {
     "cell_type": "code",
     "collapsed": false,
     "input": [
      "imgs = datasets.load_sample_images().images\n",
      "lgn.gallery([imgs[0], imgs[1]])"
     ],
     "language": "python",
     "metadata": {},
     "outputs": [
      {
       "html": [
        "<meta name=\"viewport\" content=\"width=device-width, initial-scale=1, maximum-scale=1\"/><meta http-equiv=\"X-UA-Compatible\" content=\"IE=10; IE=9; IE=8; IE=7; IE=EDGE\"/><meta charset=\"UTF-8\"/><link href=\"//fonts.googleapis.com/css?family=Open+Sans:400,700\" rel=\"stylesheet\" type=\"text/css\"/><link rel=\"stylesheet\" href=\"http://lightning-docs.herokuapp.com/css/app.css\"/><link rel=\"stylesheet\" href=\"http://lightning-docs.herokuapp.com/css/dynamic/viz/?visualizations[]=gallery\"/><div id=\"lightning-body\" class=\"container content wrap push\"><div class=\"feed-container\"><div data-model=\"visualization\" data-model-id=\"97\" class=\"feed-item-container\"><div data-type=\"gallery\" data-data=\"null\" data-images=\"[&quot;https://s3.amazonaws.com/i.gif.fm/sessions/35/gAg8D6ZD5ceHbwJr86WgtgmbvtkUpEcK&quot;,&quot;https://s3.amazonaws.com/i.gif.fm/sessions/35/U4iHup5bDUvEy0vc17xcB5rKTTKKXfKp&quot;]\" data-options=\"null\" id=\"viz-97\" data-initialized=\"false\" class=\"feed-item\"></div></div></div></div><script>window.lightning = window.lightning || {};\n",
        "window.lightning.host = window.lightning.host || \"http://lightning-docs.herokuapp.com/\" || 'http://127.0.0.1:3000/';\n",
        "window.lightning.vizCount = (window.lightning.vizCount + 1) || 1;\n",
        "window.lightning.requiredVizTypes = window.lightning.requiredVizTypes || [];\n",
        "if(window.lightning.requiredVizTypes.indexOf(\"gallery\") === -1) {\n",
        "    window.lightning.requiredVizTypes.push(\"gallery\");\n",
        "}\n",
        "window._require = window.require;\n",
        "window.require = undefined;\n",
        "window._define = window.define;\n",
        "window.define = undefined;</script><script src=\"http://lightning-docs.herokuapp.com/js/embed.js\"></script>"
       ],
       "metadata": {},
       "output_type": "pyout",
       "prompt_number": 11,
       "text": [
        "<lightning.types.images.Gallery at 0x107416290>"
       ]
      }
     ],
     "prompt_number": 11
    }
   ],
   "metadata": {}
  }
 ]
}